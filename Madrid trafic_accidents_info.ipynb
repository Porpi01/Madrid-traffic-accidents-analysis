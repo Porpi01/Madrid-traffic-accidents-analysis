{
 "cells": [
  {
   "cell_type": "markdown",
   "metadata": {},
   "source": [
    "# INFORMACIÓN DEL PROYECTO"
   ]
  },
  {
   "cell_type": "markdown",
   "metadata": {},
   "source": [
    "### TÍTULO"
   ]
  },
  {
   "cell_type": "markdown",
   "metadata": {},
   "source": [
    "Análisis de los Factores que Contribuyen a los Accidentes de Tráfico en Madrid"
   ]
  },
  {
   "cell_type": "markdown",
   "metadata": {},
   "source": [
    "### TEMA"
   ]
  },
  {
   "cell_type": "markdown",
   "metadata": {},
   "source": [
    "El análisis se enfoca en estudiar diversos factores que pueden estar relacionados con la ocurrencia y la gravedad de los accidentes de tráfico en Madrid durante un período de 5 años (2019-2023). Los factores a investigar incluyen:\n",
    "\n",
    "Condiciones Climáticas: ¿Cómo afectan el clima (lluvia, nieve, visibilidad, temperatura) a la frecuencia de accidentes?\n",
    "\n",
    "Hora del Día: ¿Existen horas del día con una mayor frecuencia de accidentes (por ejemplo, horas punta, noche)?\n",
    "\n",
    "Tipo de Vehículo: ¿Algunos vehículos están más involucrados en accidentes que otros (por ejemplo, motocicletas, coches)?\n",
    "\n",
    "Tipo de Carretera: ¿Las carreteras principales y secundarias tienen diferentes tasas de accidentes?\n",
    "\n",
    "Día de la Semana: ¿Los accidentes ocurren más en ciertos días de la semana (lunes por la mañana vs. fin de semana)?\n",
    "\n",
    "Zona Geográfica: ¿Algunas áreas de Madrid tienen más accidentes que otras? ¿Hay zonas de mayor riesgo?\n",
    "\n",
    "\n"
   ]
  },
  {
   "cell_type": "markdown",
   "metadata": {},
   "source": [
    "### HIPÓTESIS"
   ]
  },
  {
   "cell_type": "markdown",
   "metadata": {},
   "source": [
    "Define aquí lo que será la hipótesis de tu proyecto.\n",
    "Puede que tengas más de una, pero tu proyecto lo harás teniendo una principal hipótesis."
   ]
  },
  {
   "cell_type": "markdown",
   "metadata": {},
   "source": [
    "La probabilidad y gravedad de los siniestros de tráfico dependen significativamente de factores contextuales externos como la hora del día, la ubicación geográfica, el tipo de vía, las condiciones meteorológicas y el tipo de vehículo involucrado. Incorporar estas variables contextuales en la evaluación del riesgo permite mejorar la precisión de la tarificación y la gestión preventiva del seguro de conductor."
   ]
  },
  {
   "cell_type": "markdown",
   "metadata": {},
   "source": [
    "## OBTENCIÓN DE LOS DATOS"
   ]
  },
  {
   "cell_type": "markdown",
   "metadata": {},
   "source": [
    "### DATASETS Y FUENTES ALTERNATIVAS DE DATOS"
   ]
  },
  {
   "cell_type": "markdown",
   "metadata": {},
   "source": [
    "Incluye aquí una breve descripción del dataset o datasets de los que partirás para poder evaluar tu hipótesis. <br>\n",
    "También incluye el origen de estos datos y su fuente."
   ]
  },
  {
   "cell_type": "markdown",
   "metadata": {},
   "source": [
    "Título del Dataset:\n",
    "\"Traffic Accidents in Madrid, Spain (2019-2023)\"\n",
    "\n",
    "Descripción General:\n",
    "Este dataset contiene información sobre accidentes de tráfico ocurridos en Madrid entre los años 2019 y 2023. Los datos fueron recopilados por fuentes oficiales, como las autoridades de tráfico locales y registros públicos, con el objetivo de analizar y mejorar la seguridad vial en la ciudad. El dataset incluye una variedad de características relacionadas con los accidentes, como las condiciones meteorológicas, el tipo de vehículo, la hora del día, la gravedad del accidente y más.\n",
    "\n",
    "Fuente: https://www.kaggle.com/datasets/leomed666/traffic-accidents-in-madrid-spain-from-2019-2023\n"
   ]
  },
  {
   "cell_type": "markdown",
   "metadata": {},
   "source": [
    "Muestra mediante un head() los principales datasets con los que vas a trabajar"
   ]
  },
  {
   "cell_type": "code",
   "execution_count": 4,
   "metadata": {},
   "outputs": [
    {
     "data": {
      "text/html": [
       "<div>\n",
       "<style scoped>\n",
       "    .dataframe tbody tr th:only-of-type {\n",
       "        vertical-align: middle;\n",
       "    }\n",
       "\n",
       "    .dataframe tbody tr th {\n",
       "        vertical-align: top;\n",
       "    }\n",
       "\n",
       "    .dataframe thead th {\n",
       "        text-align: right;\n",
       "    }\n",
       "</style>\n",
       "<table border=\"1\" class=\"dataframe\">\n",
       "  <thead>\n",
       "    <tr style=\"text-align: right;\">\n",
       "      <th></th>\n",
       "      <th>num_expediente</th>\n",
       "      <th>fecha</th>\n",
       "      <th>hora_24h</th>\n",
       "      <th>fecha_hora</th>\n",
       "      <th>distrito</th>\n",
       "      <th>tipo_accidente</th>\n",
       "      <th>condiciones_meteorológicas</th>\n",
       "      <th>tipo_vehiculo</th>\n",
       "      <th>tipo_persona</th>\n",
       "      <th>rango_edad</th>\n",
       "      <th>sexo</th>\n",
       "      <th>lesividad</th>\n",
       "      <th>alcohol_test</th>\n",
       "      <th>drogas_test</th>\n",
       "      <th>coordenada_x_utm</th>\n",
       "      <th>coordenada_y_utm</th>\n",
       "    </tr>\n",
       "  </thead>\n",
       "  <tbody>\n",
       "    <tr>\n",
       "      <th>0</th>\n",
       "      <td>2018S017842</td>\n",
       "      <td>2019-02-04</td>\n",
       "      <td>09:10</td>\n",
       "      <td>2019-02-04 09:10:00</td>\n",
       "      <td>Centro</td>\n",
       "      <td>Colisión lateral</td>\n",
       "      <td>Despejado</td>\n",
       "      <td>Motocicleta &gt; 125cc</td>\n",
       "      <td>Conductor</td>\n",
       "      <td>45 - 49</td>\n",
       "      <td>Hombre</td>\n",
       "      <td>Asistencia sanitaria sólo en el lugar del acci...</td>\n",
       "      <td>No</td>\n",
       "      <td>No</td>\n",
       "      <td>440068.049</td>\n",
       "      <td>4475679.170</td>\n",
       "    </tr>\n",
       "    <tr>\n",
       "      <th>1</th>\n",
       "      <td>2018S017842</td>\n",
       "      <td>2019-02-04</td>\n",
       "      <td>09:10</td>\n",
       "      <td>2019-02-04 09:10:00</td>\n",
       "      <td>Centro</td>\n",
       "      <td>Colisión lateral</td>\n",
       "      <td>Despejado</td>\n",
       "      <td>Turismo</td>\n",
       "      <td>Conductor</td>\n",
       "      <td>30 - 34</td>\n",
       "      <td>Mujer</td>\n",
       "      <td>Asistencia sanitaria sólo en el lugar del acci...</td>\n",
       "      <td>No</td>\n",
       "      <td>No</td>\n",
       "      <td>440068.049</td>\n",
       "      <td>4475679.170</td>\n",
       "    </tr>\n",
       "    <tr>\n",
       "      <th>2</th>\n",
       "      <td>2019S000001</td>\n",
       "      <td>2019-01-01</td>\n",
       "      <td>03:45</td>\n",
       "      <td>2019-01-01 03:45:00</td>\n",
       "      <td>Carabanchel</td>\n",
       "      <td>Alcance</td>\n",
       "      <td>No registrado</td>\n",
       "      <td>Furgoneta</td>\n",
       "      <td>Conductor</td>\n",
       "      <td>40 - 44</td>\n",
       "      <td>Hombre</td>\n",
       "      <td>Se desconoce</td>\n",
       "      <td>Si</td>\n",
       "      <td>No</td>\n",
       "      <td>439139.603</td>\n",
       "      <td>4470836.854</td>\n",
       "    </tr>\n",
       "    <tr>\n",
       "      <th>3</th>\n",
       "      <td>2019S000001</td>\n",
       "      <td>2019-01-01</td>\n",
       "      <td>03:45</td>\n",
       "      <td>2019-01-01 03:45:00</td>\n",
       "      <td>Carabanchel</td>\n",
       "      <td>Alcance</td>\n",
       "      <td>No registrado</td>\n",
       "      <td>Turismo</td>\n",
       "      <td>Conductor</td>\n",
       "      <td>40 - 44</td>\n",
       "      <td>Mujer</td>\n",
       "      <td>Se desconoce</td>\n",
       "      <td>No</td>\n",
       "      <td>No</td>\n",
       "      <td>439139.603</td>\n",
       "      <td>4470836.854</td>\n",
       "    </tr>\n",
       "    <tr>\n",
       "      <th>4</th>\n",
       "      <td>2019S000001</td>\n",
       "      <td>2019-01-01</td>\n",
       "      <td>03:45</td>\n",
       "      <td>2019-01-01 03:45:00</td>\n",
       "      <td>Carabanchel</td>\n",
       "      <td>Alcance</td>\n",
       "      <td>No registrado</td>\n",
       "      <td>Turismo</td>\n",
       "      <td>Conductor</td>\n",
       "      <td>45 - 49</td>\n",
       "      <td>Mujer</td>\n",
       "      <td>Se desconoce</td>\n",
       "      <td>No</td>\n",
       "      <td>No</td>\n",
       "      <td>439139.603</td>\n",
       "      <td>4470836.854</td>\n",
       "    </tr>\n",
       "  </tbody>\n",
       "</table>\n",
       "</div>"
      ],
      "text/plain": [
       "  num_expediente       fecha hora_24h           fecha_hora     distrito  \\\n",
       "0    2018S017842  2019-02-04    09:10  2019-02-04 09:10:00       Centro   \n",
       "1    2018S017842  2019-02-04    09:10  2019-02-04 09:10:00       Centro   \n",
       "2    2019S000001  2019-01-01    03:45  2019-01-01 03:45:00  Carabanchel   \n",
       "3    2019S000001  2019-01-01    03:45  2019-01-01 03:45:00  Carabanchel   \n",
       "4    2019S000001  2019-01-01    03:45  2019-01-01 03:45:00  Carabanchel   \n",
       "\n",
       "     tipo_accidente condiciones_meteorológicas        tipo_vehiculo  \\\n",
       "0  Colisión lateral                  Despejado  Motocicleta > 125cc   \n",
       "1  Colisión lateral                  Despejado              Turismo   \n",
       "2           Alcance              No registrado            Furgoneta   \n",
       "3           Alcance              No registrado              Turismo   \n",
       "4           Alcance              No registrado              Turismo   \n",
       "\n",
       "  tipo_persona rango_edad    sexo  \\\n",
       "0    Conductor    45 - 49  Hombre   \n",
       "1    Conductor    30 - 34   Mujer   \n",
       "2    Conductor    40 - 44  Hombre   \n",
       "3    Conductor    40 - 44   Mujer   \n",
       "4    Conductor    45 - 49   Mujer   \n",
       "\n",
       "                                           lesividad alcohol_test drogas_test  \\\n",
       "0  Asistencia sanitaria sólo en el lugar del acci...           No          No   \n",
       "1  Asistencia sanitaria sólo en el lugar del acci...           No          No   \n",
       "2                                       Se desconoce           Si          No   \n",
       "3                                       Se desconoce           No          No   \n",
       "4                                       Se desconoce           No          No   \n",
       "\n",
       "   coordenada_x_utm  coordenada_y_utm  \n",
       "0        440068.049       4475679.170  \n",
       "1        440068.049       4475679.170  \n",
       "2        439139.603       4470836.854  \n",
       "3        439139.603       4470836.854  \n",
       "4        439139.603       4470836.854  "
      ]
     },
     "execution_count": 4,
     "metadata": {},
     "output_type": "execute_result"
    }
   ],
   "source": [
    "import pandas as pd\n",
    "df_accidentes = pd.read_csv('traffic_accidents_clean.csv')\n",
    "df_accidentes.head()"
   ]
  }
 ],
 "metadata": {
  "kernelspec": {
   "display_name": "data_analysis_env",
   "language": "python",
   "name": "python3"
  },
  "language_info": {
   "codemirror_mode": {
    "name": "ipython",
    "version": 3
   },
   "file_extension": ".py",
   "mimetype": "text/x-python",
   "name": "python",
   "nbconvert_exporter": "python",
   "pygments_lexer": "ipython3",
   "version": "3.11.11"
  },
  "orig_nbformat": 4
 },
 "nbformat": 4,
 "nbformat_minor": 2
}
